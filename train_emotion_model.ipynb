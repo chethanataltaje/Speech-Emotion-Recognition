{
 "cells": [
  {
   "cell_type": "code",
   "execution_count": 1,
   "id": "07a8f72f-b018-4f8d-ac92-00116da70eb6",
   "metadata": {},
   "outputs": [
    {
     "name": "stdout",
     "output_type": "stream",
     "text": [
      "Is CUDA available? True\n",
      "GPU Device: NVIDIA GeForce RTX 4060 Laptop GPU\n"
     ]
    }
   ],
   "source": [
    "import torch\n",
    "\n",
    "# Check if CUDA (GPU) is available\n",
    "print(\"Is CUDA available?\", torch.cuda.is_available())\n",
    "\n",
    "# If available, print device name\n",
    "if torch.cuda.is_available():\n",
    "    print(\"GPU Device:\", torch.cuda.get_device_name(0))\n"
   ]
  },
  {
   "cell_type": "markdown",
   "id": "5432e95c-3a0c-4c99-b329-b497f4405e24",
   "metadata": {},
   "source": [
    "Import necessary libraries"
   ]
  },
  {
   "cell_type": "code",
   "execution_count": 2,
   "id": "bc50a785-e706-48b0-9aa4-530799e3e892",
   "metadata": {},
   "outputs": [],
   "source": [
    "import os\n",
    "import librosa\n",
    "import numpy as np\n",
    "import matplotlib.pyplot as plt\n",
    "import seaborn as sns\n",
    "from collections import defaultdict\n",
    "from sklearn.model_selection import train_test_split\n",
    "from sklearn.preprocessing import LabelEncoder\n",
    "from torch.utils.data import Dataset, DataLoader\n"
   ]
  },
  {
   "cell_type": "markdown",
   "id": "1a7ef950-8bf4-4547-89cb-a76082d2b255",
   "metadata": {},
   "source": [
    "Extract MFCC features"
   ]
  },
  {
   "cell_type": "code",
   "execution_count": 3,
   "id": "3f8e8ea0-a1ee-470e-b9d0-60bb9452d9bf",
   "metadata": {},
   "outputs": [
    {
     "name": "stdout",
     "output_type": "stream",
     "text": [
      "Files loaded per emotion:\n",
      "     angry: 384\n",
      "      calm: 384\n",
      "   disgust: 384\n",
      "   fearful: 384\n",
      "     happy: 384\n",
      "   neutral: 192\n",
      "       sad: 384\n",
      " surprised: 384\n"
     ]
    }
   ],
   "source": [
    "emotion_map = {\n",
    "    '01': 'neutral',\n",
    "    '02': 'calm',\n",
    "    '03': 'happy',\n",
    "    '04': 'sad',\n",
    "    '05': 'angry',\n",
    "    '06': 'fearful',\n",
    "    '07': 'disgust',\n",
    "    '08': 'surprised'\n",
    "}\n",
    "\n",
    "def extract_features(file_path,max_len=174):\n",
    "    # Load audio file\n",
    "    audio, sample_rate = librosa.load(file_path, sr=22050)\n",
    "    # Extract 40 MFCC features\n",
    "    mfcc=librosa.feature.mfcc(y=audio, sr=sample_rate, n_mfcc=40)\n",
    "    # Normalize the MFCCs\n",
    "    mfcc=(mfcc - np.mean(mfcc)) / np.std(mfcc)\n",
    "    if mfcc.shape[1] < max_len:\n",
    "        pad_width = max_len - mfcc.shape[1]\n",
    "        mfcc = np.pad(mfcc, ((0, 0), (0, pad_width)), mode='constant')\n",
    "    else:\n",
    "        mfcc = mfcc[:, :max_len]\n",
    "    return mfcc # 2D array of shape(40, time)\n",
    "\n",
    "features = []\n",
    "labels = []\n",
    "emotion_counts = defaultdict(int)#Track counts per emotion\n",
    "\n",
    "for root, _, files in os.walk('Emotionalspeech'):\n",
    "    for file in files:\n",
    "        if file.endswith('.wav'):\n",
    "            try:\n",
    "                emotion_code = file.split('-')[2]\n",
    "                if emotion_code in emotion_map:\n",
    "                    label = emotion_map[emotion_code]\n",
    "                    file_path = os.path.join(root, file)\n",
    "                    mfcc = extract_features(file_path)\n",
    "\n",
    "                    if mfcc.shape == (40, 174):\n",
    "                        features.append(mfcc)\n",
    "                        labels.append(label)\n",
    "                        emotion_counts[label] += 1\n",
    "            except Exception as e:\n",
    "                print(f\"Error processing file: {file} → {e}\")\n",
    "\n",
    "# Print count summary\n",
    "print(\"Files loaded per emotion:\")\n",
    "for emo in sorted(emotion_counts):\n",
    "    print(f\"{emo:>10}: {emotion_counts[emo]}\")\n"
   ]
  },
  {
   "cell_type": "markdown",
   "id": "a7f73070-a412-4a91-a68d-b13cd33c7aa5",
   "metadata": {},
   "source": [
    "Label encode"
   ]
  },
  {
   "cell_type": "code",
   "execution_count": 4,
   "id": "5c84b050-13a7-40a9-97d0-fe507b7a1103",
   "metadata": {},
   "outputs": [
    {
     "name": "stdout",
     "output_type": "stream",
     "text": [
      "Classes: ['angry' 'calm' 'disgust' 'fearful' 'happy' 'neutral' 'sad' 'surprised']\n",
      "Encoded labels: [5 5 5 5 1 1 1 1 1 1 1 1 4 4 4 4 4 4 4 4]\n"
     ]
    }
   ],
   "source": [
    "#convert emotion labels from string to numbers\n",
    "le=LabelEncoder()\n",
    "encoded_labels=le.fit_transform(labels)\n",
    "\n",
    "print(\"Classes:\", le.classes_)\n",
    "print(\"Encoded labels:\", encoded_labels[:20])\n"
   ]
  },
  {
   "cell_type": "markdown",
   "id": "6fdbeb83-a2c2-4259-a2c9-2f3c2f2d1f1c",
   "metadata": {},
   "source": [
    "Creating train_test split"
   ]
  },
  {
   "cell_type": "code",
   "execution_count": 5,
   "id": "463df205-d3de-4e7e-8d10-5d35d6729293",
   "metadata": {},
   "outputs": [
    {
     "name": "stdout",
     "output_type": "stream",
     "text": [
      "Train shape: (2304, 40, 174)\n",
      "Test shape: (576, 40, 174)\n"
     ]
    }
   ],
   "source": [
    "X = np.array(features)\n",
    "y = np.array(encoded_labels)\n",
    "X_train, X_test, y_train, y_test = train_test_split(\n",
    "    X, y, test_size=0.2, random_state=42, stratify=y\n",
    ")\n",
    "\n",
    "print(\"Train shape:\", X_train.shape)\n",
    "print(\"Test shape:\", X_test.shape)"
   ]
  },
  {
   "cell_type": "markdown",
   "id": "3039d463-1bab-4b0a-9e51-06148f17eeae",
   "metadata": {},
   "source": [
    "Building PyTorch model"
   ]
  },
  {
   "cell_type": "markdown",
   "id": "28c20616-a965-4295-9009-ebf27acbf0eb",
   "metadata": {},
   "source": [
    "Defining a Custom Dataset Class"
   ]
  },
  {
   "cell_type": "code",
   "execution_count": 6,
   "id": "b7a234d6-560b-4348-8c29-80a0e47f61ce",
   "metadata": {},
   "outputs": [],
   "source": [
    "class EmotionDataset(Dataset):\n",
    "    def __init__(self,X,y): #Stores data as tensors\n",
    "        self.X=torch.tensor(X, dtype=torch.float32)\n",
    "        self.y=torch.tensor(y, dtype=torch.long) #labels\n",
    "        \n",
    "    def __len__(self): #Returns number of samples\n",
    "        return len(self.X)\n",
    "        \n",
    "    def __getitem__(self,idx): #Returns one (feature, label) pair\n",
    "        return self.X[idx].unsqueeze(0), self.y[idx] #unsqueeze(0)adds a new dimension at 0th position, turning it into a 3D tensor with 1 channel.\n"
   ]
  },
  {
   "cell_type": "markdown",
   "id": "296dc770-3d43-4bc8-98ce-1f6b7c8fddff",
   "metadata": {},
   "source": [
    "Creating Datasets & DataLoaders"
   ]
  },
  {
   "cell_type": "code",
   "execution_count": 7,
   "id": "42d6bb2c-97f8-4bf1-9d8a-a69e17091588",
   "metadata": {},
   "outputs": [],
   "source": [
    "train_dataset=EmotionDataset(X_train, y_train)\n",
    "test_dataset=EmotionDataset(X_test, y_test)\n",
    "\n",
    "train_loader=DataLoader(train_dataset, batch_size=32, shuffle=True)\n",
    "test_loader = DataLoader(test_dataset, batch_size=32, shuffle=False)"
   ]
  },
  {
   "cell_type": "markdown",
   "id": "8c8ab543-b6f1-428d-820b-694dea159a73",
   "metadata": {},
   "source": [
    "Building a CNN model"
   ]
  },
  {
   "cell_type": "code",
   "execution_count": 8,
   "id": "8853134c-d860-4e91-bdcb-cc6857621b51",
   "metadata": {},
   "outputs": [],
   "source": [
    "import torch\n",
    "import torch.nn as nn\n",
    "import torch.nn.functional as F\n"
   ]
  },
  {
   "cell_type": "code",
   "execution_count": 9,
   "id": "691ff194-7b3b-416d-8556-cd466585bcbc",
   "metadata": {},
   "outputs": [],
   "source": [
    "class EmotionCNN(nn.Module): #defining a custom neural network called EmotionCNN\n",
    "    def __init__(self, numclasses):\n",
    "        super(EmotionCNN, self).__init__()\n",
    "\n",
    "        #1st convolutional layer\n",
    "        self.conv1=nn.Conv2d(1,16,kernel_size=3, padding=1) #1 input channel, 16 output filters, 3x3 kernel,padding ensuring spatial size stays same\n",
    "        self.bn1=nn.BatchNorm2d(16) #normalize each of the 16 feature maps independently across the batch\n",
    "        self.pool1=nn.MaxPool2d(2) #reduces the size of the feature maps by taking the maximum value in small windows\n",
    "        \n",
    "        #2nd convolutional layer\n",
    "        self.conv2=nn.Conv2d(16,32,kernel_size=3, padding=1)\n",
    "        self.bn2=nn.BatchNorm2d(32)\n",
    "        self.pool2=nn.MaxPool2d(2)\n",
    "        \n",
    "        #3nd convolutional layer\n",
    "        self.conv3=nn.Conv2d(32,64,kernel_size=3, padding=1)\n",
    "        self.bn3=nn.BatchNorm2d(64)\n",
    "        self.pool3=nn.MaxPool2d(2)\n",
    "        \n",
    "        #fully connected layer\n",
    "        self.fc1=nn.Linear(64*5*21, 128) #converts extracted features into a 128-length vector \n",
    "        self.dropout=nn.Dropout(0.3) #Randomly disables 30% of neurons, preventing overfitting\n",
    "        self.fc2=nn.Linear(128,numclasses) #maps the 128-dimensional output to the number of emotion classes \n",
    "        \n",
    "    def forward(self,x):\n",
    "        x=self.pool1(F.relu(self.bn1(self.conv1(x))))\n",
    "        x = self.pool2(F.relu(self.bn2(self.conv2(x))))\n",
    "        x = self.pool3(F.relu(self.bn3(self.conv3(x))))\n",
    "        x = x.view(x.size(0), -1)  #flattening each feature map into a single long vector (.view() reshapes tensors)\n",
    "        x = self.dropout(F.relu(self.fc1(x)))\n",
    "        x = self.fc2(x)\n",
    "        return x\n",
    "        "
   ]
  },
  {
   "cell_type": "code",
   "execution_count": 10,
   "id": "a0515467-227e-493c-ac5a-03aa5e384925",
   "metadata": {},
   "outputs": [
    {
     "name": "stdout",
     "output_type": "stream",
     "text": [
      "Using device: cuda\n"
     ]
    }
   ],
   "source": [
    "device = torch.device(\"cuda\" if torch.cuda.is_available() else \"cpu\")\n",
    "print(\"Using device:\", device)\n"
   ]
  },
  {
   "cell_type": "code",
   "execution_count": 11,
   "id": "cf8286c0-7c3e-4be3-91de-6c283f6da7a1",
   "metadata": {},
   "outputs": [
    {
     "data": {
      "text/plain": [
       "EmotionCNN(\n",
       "  (conv1): Conv2d(1, 16, kernel_size=(3, 3), stride=(1, 1), padding=(1, 1))\n",
       "  (bn1): BatchNorm2d(16, eps=1e-05, momentum=0.1, affine=True, track_running_stats=True)\n",
       "  (pool1): MaxPool2d(kernel_size=2, stride=2, padding=0, dilation=1, ceil_mode=False)\n",
       "  (conv2): Conv2d(16, 32, kernel_size=(3, 3), stride=(1, 1), padding=(1, 1))\n",
       "  (bn2): BatchNorm2d(32, eps=1e-05, momentum=0.1, affine=True, track_running_stats=True)\n",
       "  (pool2): MaxPool2d(kernel_size=2, stride=2, padding=0, dilation=1, ceil_mode=False)\n",
       "  (conv3): Conv2d(32, 64, kernel_size=(3, 3), stride=(1, 1), padding=(1, 1))\n",
       "  (bn3): BatchNorm2d(64, eps=1e-05, momentum=0.1, affine=True, track_running_stats=True)\n",
       "  (pool3): MaxPool2d(kernel_size=2, stride=2, padding=0, dilation=1, ceil_mode=False)\n",
       "  (fc1): Linear(in_features=6720, out_features=128, bias=True)\n",
       "  (dropout): Dropout(p=0.3, inplace=False)\n",
       "  (fc2): Linear(in_features=128, out_features=8, bias=True)\n",
       ")"
      ]
     },
     "execution_count": 11,
     "metadata": {},
     "output_type": "execute_result"
    }
   ],
   "source": [
    "model = EmotionCNN(numclasses=8)\n",
    "model.to(device)\n"
   ]
  },
  {
   "cell_type": "code",
   "execution_count": 12,
   "id": "8df1b625-70d1-4415-881e-1eebde6c2504",
   "metadata": {},
   "outputs": [],
   "source": [
    "import torch.optim as optim\n",
    "\n",
    "criterion=nn.CrossEntropyLoss()\n",
    "optimizer=optim.Adam(model.parameters(), lr=0.0005)\n"
   ]
  },
  {
   "cell_type": "markdown",
   "id": "d3d6dece-6c1d-4ad5-8362-61e2647f9d0c",
   "metadata": {},
   "source": [
    "Training Loop"
   ]
  },
  {
   "cell_type": "code",
   "execution_count": 13,
   "id": "bd1fe7a8-16cf-4623-9f08-811943f9023a",
   "metadata": {},
   "outputs": [
    {
     "name": "stdout",
     "output_type": "stream",
     "text": [
      "Epoch [1/40]-Loss:137.0146-Accuracy:26.78%\n",
      "Epoch [2/40]-Loss:113.8608-Accuracy:39.45%\n",
      "Epoch [3/40]-Loss:100.4020-Accuracy:46.44%\n",
      "Epoch [4/40]-Loss:87.1676-Accuracy:55.73%\n",
      "Epoch [5/40]-Loss:74.3108-Accuracy:62.07%\n",
      "Epoch [6/40]-Loss:65.7423-Accuracy:67.93%\n",
      "Epoch [7/40]-Loss:60.3005-Accuracy:68.92%\n",
      "Epoch [8/40]-Loss:51.8738-Accuracy:74.05%\n",
      "Epoch [9/40]-Loss:42.1686-Accuracy:80.03%\n",
      "Epoch [10/40]-Loss:35.2303-Accuracy:83.81%\n",
      "Epoch [11/40]-Loss:29.3244-Accuracy:86.81%\n",
      "Epoch [12/40]-Loss:28.1907-Accuracy:87.37%\n",
      "Epoch [13/40]-Loss:24.1793-Accuracy:88.85%\n",
      "Epoch [14/40]-Loss:18.5252-Accuracy:91.58%\n",
      "Epoch [15/40]-Loss:16.6050-Accuracy:93.49%\n",
      "Epoch [16/40]-Loss:15.7488-Accuracy:93.66%\n",
      "Epoch [17/40]-Loss:12.9746-Accuracy:94.88%\n",
      "Epoch [18/40]-Loss:10.8245-Accuracy:96.09%\n",
      "Epoch [19/40]-Loss:11.8788-Accuracy:95.10%\n",
      "Epoch [20/40]-Loss:10.6840-Accuracy:95.62%\n",
      "Epoch [21/40]-Loss:9.7510-Accuracy:96.35%\n",
      "Epoch [22/40]-Loss:8.7112-Accuracy:96.22%\n",
      "Epoch [23/40]-Loss:7.5026-Accuracy:96.92%\n",
      "Epoch [24/40]-Loss:6.9395-Accuracy:97.14%\n",
      "Epoch [25/40]-Loss:7.3961-Accuracy:96.88%\n",
      "Epoch [26/40]-Loss:6.1663-Accuracy:97.92%\n",
      "Epoch [27/40]-Loss:7.4913-Accuracy:96.79%\n",
      "Epoch [28/40]-Loss:5.7732-Accuracy:97.48%\n",
      "Epoch [29/40]-Loss:5.4373-Accuracy:97.61%\n",
      "Epoch [30/40]-Loss:6.0570-Accuracy:97.79%\n",
      "Epoch [31/40]-Loss:5.7059-Accuracy:97.70%\n",
      "Epoch [32/40]-Loss:5.3782-Accuracy:97.79%\n",
      "Epoch [33/40]-Loss:5.6611-Accuracy:97.92%\n",
      "Epoch [34/40]-Loss:5.1138-Accuracy:97.79%\n",
      "Epoch [35/40]-Loss:5.9499-Accuracy:97.31%\n",
      "Epoch [36/40]-Loss:5.1153-Accuracy:97.70%\n",
      "Epoch [37/40]-Loss:5.2207-Accuracy:97.61%\n",
      "Epoch [38/40]-Loss:5.8312-Accuracy:97.66%\n",
      "Epoch [39/40]-Loss:4.6610-Accuracy:98.05%\n",
      "Epoch [40/40]-Loss:4.2752-Accuracy:98.18%\n"
     ]
    }
   ],
   "source": [
    "num_of_epoch=40\n",
    "for epoch in range(num_of_epoch):\n",
    "    model.train()\n",
    "    running_loss=0\n",
    "    correct=0\n",
    "    total=0\n",
    "    for inputs,labels in train_loader:\n",
    "        inputs=inputs.to(device)\n",
    "        labels = labels.to(device)\n",
    "        \n",
    "        optimizer.zero_grad() #clear previous gradients\n",
    "        outputs=model(inputs) #forward pass\n",
    "        loss=criterion(outputs, labels)\n",
    "        loss.backward() #backpropagation\n",
    "        optimizer.step() #updating weights\n",
    "        \n",
    "        running_loss+=loss.item() #.item() gives scalar (float) value\n",
    "        _,predicted=torch.max(outputs.data, 1)  #gets predicted class labels\n",
    "        total+=labels.size(0)\n",
    "        correct+=(predicted == labels).sum().item()\n",
    "        \n",
    "    acc=100*correct/total\n",
    "    print(f\"Epoch [{epoch+1}/{num_of_epoch}]-Loss:{running_loss:.4f}-Accuracy:{acc:.2f}%\")\n",
    "        \n",
    "\n",
    "    "
   ]
  },
  {
   "cell_type": "markdown",
   "id": "50cd19ef-4f65-40e2-b45a-418c79920a9e",
   "metadata": {},
   "source": [
    "Evaluating on Test Set"
   ]
  },
  {
   "cell_type": "code",
   "execution_count": 14,
   "id": "af0cabb7-4104-444c-9795-2f0c30dc9e94",
   "metadata": {},
   "outputs": [
    {
     "name": "stdout",
     "output_type": "stream",
     "text": [
      "Test Accuracy: 96.53%\n"
     ]
    }
   ],
   "source": [
    "model.eval()\n",
    "correct=0\n",
    "total=0\n",
    "all_preds=[]\n",
    "all_labels=[]\n",
    "with torch.no_grad():\n",
    "    for inputs,labels in test_loader:\n",
    "        inputs,labels=inputs.to(device), labels.to(device)\n",
    "        outputs=model(inputs)\n",
    "        _,predicted=torch.max(outputs.data, 1)\n",
    "        total+=labels.size(0)\n",
    "        correct+=(predicted==labels).sum().item()\n",
    "        all_preds.extend(predicted.cpu().numpy())\n",
    "        all_labels.extend(labels.cpu().numpy())\n",
    "test_accuracy=100*correct/total\n",
    "print(f\"Test Accuracy: {test_accuracy:.2f}%\")"
   ]
  },
  {
   "cell_type": "code",
   "execution_count": 15,
   "id": "4c5f1e9d-d34e-42a6-a421-4e2f49e21371",
   "metadata": {},
   "outputs": [
    {
     "name": "stdout",
     "output_type": "stream",
     "text": [
      "Classification Report:\n",
      "              precision    recall  f1-score   support\n",
      "\n",
      "       angry       0.97      0.97      0.97        76\n",
      "        calm       0.97      1.00      0.99        77\n",
      "     disgust       0.97      0.95      0.96        77\n",
      "     fearful       0.95      0.95      0.95        77\n",
      "       happy       0.91      1.00      0.95        77\n",
      "     neutral       1.00      1.00      1.00        38\n",
      "         sad       0.97      0.92      0.95        77\n",
      "   surprised       1.00      0.95      0.97        77\n",
      "\n",
      "    accuracy                           0.97       576\n",
      "   macro avg       0.97      0.97      0.97       576\n",
      "weighted avg       0.97      0.97      0.97       576\n",
      "\n"
     ]
    }
   ],
   "source": [
    "from sklearn.metrics import classification_report, confusion_matrix\n",
    "print(\"Classification Report:\")\n",
    "print(classification_report(all_labels, all_preds, target_names=le.classes_))\n"
   ]
  },
  {
   "cell_type": "code",
   "execution_count": 16,
   "id": "3dfef888-0055-44a0-bc43-76c88b3c4297",
   "metadata": {
    "scrolled": true
   },
   "outputs": [
    {
     "data": {
      "image/png": "[encoded data removed]",
      "text/plain": [
       "<Figure size 640x480 with 2 Axes>"
      ]
     },
     "metadata": {},
     "output_type": "display_data"
    }
   ],
   "source": [
    "cm=confusion_matrix(all_labels, all_preds)\n",
    "sns.heatmap(cm, annot=True, fmt='d',cmap='Blues',xticklabels=le.classes_, yticklabels=le.classes_)\n",
    "plt.xlabel('Predicted Labels')\n",
    "plt.ylabel('True Labels')\n",
    "plt.title('Confusion Matrix - Emotion Classification')\n",
    "plt.tight_layout()\n",
    "plt.show()"
   ]
  },
  {
   "cell_type": "markdown",
   "id": "4136ccbc-da28-4eea-93ce-e77eb1b6db8e",
   "metadata": {},
   "source": [
    "Saving the model"
   ]
  },
  {
   "cell_type": "code",
   "execution_count": 17,
   "id": "2122b814-fca9-476b-99c0-95e1f988b106",
   "metadata": {},
   "outputs": [],
   "source": [
    "torch.save(model.state_dict(), 'emotion_cnn.pth')"
   ]
  },
  {
   "cell_type": "code",
   "execution_count": null,
   "id": "460ac2f1-2249-4af6-be5b-670bc5bbd8a6",
   "metadata": {},
   "outputs": [],
   "source": []
  }
 ],
 "metadata": {
  "kernelspec": {
   "display_name": "Python [conda env:torch-env]",
   "language": "python",
   "name": "conda-env-torch-env-py"
  },
  "language_info": {
   "codemirror_mode": {
    "name": "ipython",
    "version": 3
   },
   "file_extension": ".py",
   "mimetype": "text/x-python",
   "name": "python",
   "nbconvert_exporter": "python",
   "pygments_lexer": "ipython3",
   "version": "3.10.18"
  }
 },
 "nbformat": 4,
 "nbformat_minor": 5
}
